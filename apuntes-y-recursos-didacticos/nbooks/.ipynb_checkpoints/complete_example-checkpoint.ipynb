{
 "cells": [
  {
   "cell_type": "code",
   "execution_count": 39,
   "metadata": {
    "collapsed": false
   },
   "outputs": [],
   "source": [
    "from sympy import *\n",
    "from sympy.plotting import plot\n",
    "from sympy.physics.continuum_mechanics.beam import Beam\n",
    "init_printing(use_latex=\"mathjax\")\n",
    "x = symbols(\"x\")"
   ]
  },
  {
   "cell_type": "code",
   "execution_count": 62,
   "metadata": {
    "collapsed": false
   },
   "outputs": [],
   "source": [
    "E, I = symbols('E, I')\n",
    "R1, R2 = symbols('R1, R2')\n",
    "L = 144\n",
    "E, I = 29e6, 100\n",
    "b = Beam(L, E, I)\n",
    "b.apply_load(R1, 0, -1)\n",
    "b.apply_load(R2, L, -1)\n",
    "b.apply_load(-15e3, L/2, -1)\n",
    "b.bc_deflection = [(L, 0),]\n",
    "#.solve_for_reaction_loads(R1,R2)"
   ]
  },
  {
   "cell_type": "code",
   "execution_count": 63,
   "metadata": {
    "collapsed": false
   },
   "outputs": [
    {
     "data": {
      "text/latex": [
       "$$\\left \\{ \\right \\}$$"
      ],
      "text/plain": [
       "{}"
      ]
     },
     "execution_count": 63,
     "metadata": {},
     "output_type": "execute_result"
    }
   ],
   "source": [
    "df = b.deflection()\n",
    "ss = b.shear_force()\n",
    "mm = b.bending_moment()\n",
    "b.reaction_loads"
   ]
  },
  {
   "cell_type": "code",
   "execution_count": 64,
   "metadata": {
    "collapsed": false
   },
   "outputs": [],
   "source": [
    "#plot(ss, (\"x\",0,L))"
   ]
  },
  {
   "cell_type": "code",
   "execution_count": 65,
   "metadata": {
    "collapsed": false
   },
   "outputs": [],
   "source": [
    "#plot(mm, (\"x\",0,L))"
   ]
  },
  {
   "cell_type": "code",
   "execution_count": 66,
   "metadata": {
    "collapsed": false
   },
   "outputs": [
    {
     "data": {
      "text/latex": [
       "$$R_{1} + R_{2} - 15000.0$$"
      ],
      "text/plain": [
       "R₁ + R₂ - 15000.0"
      ]
     },
     "execution_count": 66,
     "metadata": {},
     "output_type": "execute_result"
    }
   ],
   "source": [
    "limit(b.shear_force(), b.variable, b.length)"
   ]
  },
  {
   "cell_type": "code",
   "execution_count": 67,
   "metadata": {
    "collapsed": false
   },
   "outputs": [
    {
     "data": {
      "text/latex": [
       "$$144.0 R_{1} - 1080000.0$$"
      ],
      "text/plain": [
       "144.0⋅R₁ - 1080000.0"
      ]
     },
     "execution_count": 67,
     "metadata": {},
     "output_type": "execute_result"
    }
   ],
   "source": [
    "limit(b.bending_moment(), x, b.length)"
   ]
  }
 ],
 "metadata": {
  "kernelspec": {
   "display_name": "Python 2",
   "language": "python",
   "name": "python2"
  },
  "language_info": {
   "codemirror_mode": {
    "name": "ipython",
    "version": 2
   },
   "file_extension": ".py",
   "mimetype": "text/x-python",
   "name": "python",
   "nbconvert_exporter": "python",
   "pygments_lexer": "ipython2",
   "version": "2.7.11"
  }
 },
 "nbformat": 4,
 "nbformat_minor": 1
}
